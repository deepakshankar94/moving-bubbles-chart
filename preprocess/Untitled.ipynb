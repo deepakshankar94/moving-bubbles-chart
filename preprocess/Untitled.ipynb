{
 "cells": [
  {
   "cell_type": "code",
   "execution_count": 37,
   "metadata": {},
   "outputs": [],
   "source": [
    "import pandas as pd"
   ]
  },
  {
   "cell_type": "code",
   "execution_count": 38,
   "metadata": {},
   "outputs": [],
   "source": [
    "df = pd.read_csv(\"./atusact_2017.dat\",sep=\",\")"
   ]
  },
  {
   "cell_type": "code",
   "execution_count": 39,
   "metadata": {},
   "outputs": [
    {
     "data": {
      "text/html": [
       "<div>\n",
       "<style scoped>\n",
       "    .dataframe tbody tr th:only-of-type {\n",
       "        vertical-align: middle;\n",
       "    }\n",
       "\n",
       "    .dataframe tbody tr th {\n",
       "        vertical-align: top;\n",
       "    }\n",
       "\n",
       "    .dataframe thead th {\n",
       "        text-align: right;\n",
       "    }\n",
       "</style>\n",
       "<table border=\"1\" class=\"dataframe\">\n",
       "  <thead>\n",
       "    <tr style=\"text-align: right;\">\n",
       "      <th></th>\n",
       "      <th>TUCASEID</th>\n",
       "      <th>TUACTIVITY_N</th>\n",
       "      <th>TEWHERE</th>\n",
       "      <th>TRTCCTOT_LN</th>\n",
       "      <th>TRTCC_LN</th>\n",
       "      <th>TRTCOC_LN</th>\n",
       "      <th>TRTEC_LN</th>\n",
       "      <th>TRTHH_LN</th>\n",
       "      <th>TRTNOHH_LN</th>\n",
       "      <th>TRTOHH_LN</th>\n",
       "      <th>...</th>\n",
       "      <th>TUDURSTOP</th>\n",
       "      <th>TUEC24</th>\n",
       "      <th>TUSTARTTIM</th>\n",
       "      <th>TUSTOPTIME</th>\n",
       "      <th>TUTIER1CODE</th>\n",
       "      <th>TUTIER2CODE</th>\n",
       "      <th>TUTIER3CODE</th>\n",
       "      <th>TRCODE</th>\n",
       "      <th>TRTIER2</th>\n",
       "      <th>TXWHERE</th>\n",
       "    </tr>\n",
       "  </thead>\n",
       "  <tbody>\n",
       "    <tr>\n",
       "      <th>0</th>\n",
       "      <td>20170101170002</td>\n",
       "      <td>1</td>\n",
       "      <td>-1</td>\n",
       "      <td>0</td>\n",
       "      <td>-1</td>\n",
       "      <td>0</td>\n",
       "      <td>-1</td>\n",
       "      <td>-1</td>\n",
       "      <td>-1</td>\n",
       "      <td>-1</td>\n",
       "      <td>...</td>\n",
       "      <td>2</td>\n",
       "      <td>-1</td>\n",
       "      <td>04:00:00</td>\n",
       "      <td>05:30:00</td>\n",
       "      <td>1</td>\n",
       "      <td>1</td>\n",
       "      <td>1</td>\n",
       "      <td>10101</td>\n",
       "      <td>101</td>\n",
       "      <td>0</td>\n",
       "    </tr>\n",
       "    <tr>\n",
       "      <th>1</th>\n",
       "      <td>20170101170002</td>\n",
       "      <td>2</td>\n",
       "      <td>-1</td>\n",
       "      <td>0</td>\n",
       "      <td>-1</td>\n",
       "      <td>0</td>\n",
       "      <td>-1</td>\n",
       "      <td>-1</td>\n",
       "      <td>-1</td>\n",
       "      <td>-1</td>\n",
       "      <td>...</td>\n",
       "      <td>1</td>\n",
       "      <td>-1</td>\n",
       "      <td>05:30:00</td>\n",
       "      <td>06:00:00</td>\n",
       "      <td>1</td>\n",
       "      <td>2</td>\n",
       "      <td>1</td>\n",
       "      <td>10201</td>\n",
       "      <td>102</td>\n",
       "      <td>0</td>\n",
       "    </tr>\n",
       "    <tr>\n",
       "      <th>2</th>\n",
       "      <td>20170101170002</td>\n",
       "      <td>3</td>\n",
       "      <td>12</td>\n",
       "      <td>0</td>\n",
       "      <td>-1</td>\n",
       "      <td>0</td>\n",
       "      <td>-1</td>\n",
       "      <td>-1</td>\n",
       "      <td>-1</td>\n",
       "      <td>-1</td>\n",
       "      <td>...</td>\n",
       "      <td>1</td>\n",
       "      <td>-1</td>\n",
       "      <td>06:00:00</td>\n",
       "      <td>06:15:00</td>\n",
       "      <td>18</td>\n",
       "      <td>5</td>\n",
       "      <td>1</td>\n",
       "      <td>180501</td>\n",
       "      <td>1805</td>\n",
       "      <td>0</td>\n",
       "    </tr>\n",
       "    <tr>\n",
       "      <th>3</th>\n",
       "      <td>20170101170002</td>\n",
       "      <td>4</td>\n",
       "      <td>2</td>\n",
       "      <td>0</td>\n",
       "      <td>-1</td>\n",
       "      <td>0</td>\n",
       "      <td>-1</td>\n",
       "      <td>-1</td>\n",
       "      <td>-1</td>\n",
       "      <td>-1</td>\n",
       "      <td>...</td>\n",
       "      <td>1</td>\n",
       "      <td>-1</td>\n",
       "      <td>06:15:00</td>\n",
       "      <td>06:30:00</td>\n",
       "      <td>5</td>\n",
       "      <td>1</td>\n",
       "      <td>4</td>\n",
       "      <td>50104</td>\n",
       "      <td>501</td>\n",
       "      <td>0</td>\n",
       "    </tr>\n",
       "    <tr>\n",
       "      <th>4</th>\n",
       "      <td>20170101170002</td>\n",
       "      <td>5</td>\n",
       "      <td>2</td>\n",
       "      <td>0</td>\n",
       "      <td>-1</td>\n",
       "      <td>0</td>\n",
       "      <td>-1</td>\n",
       "      <td>-1</td>\n",
       "      <td>-1</td>\n",
       "      <td>-1</td>\n",
       "      <td>...</td>\n",
       "      <td>2</td>\n",
       "      <td>-1</td>\n",
       "      <td>06:30:00</td>\n",
       "      <td>09:00:00</td>\n",
       "      <td>5</td>\n",
       "      <td>1</td>\n",
       "      <td>1</td>\n",
       "      <td>50101</td>\n",
       "      <td>501</td>\n",
       "      <td>0</td>\n",
       "    </tr>\n",
       "  </tbody>\n",
       "</table>\n",
       "<p>5 rows × 30 columns</p>\n",
       "</div>"
      ],
      "text/plain": [
       "         TUCASEID  TUACTIVITY_N  TEWHERE  TRTCCTOT_LN  TRTCC_LN  TRTCOC_LN  \\\n",
       "0  20170101170002             1       -1            0        -1          0   \n",
       "1  20170101170002             2       -1            0        -1          0   \n",
       "2  20170101170002             3       12            0        -1          0   \n",
       "3  20170101170002             4        2            0        -1          0   \n",
       "4  20170101170002             5        2            0        -1          0   \n",
       "\n",
       "   TRTEC_LN  TRTHH_LN  TRTNOHH_LN  TRTOHH_LN   ...     TUDURSTOP  TUEC24  \\\n",
       "0        -1        -1          -1         -1   ...             2      -1   \n",
       "1        -1        -1          -1         -1   ...             1      -1   \n",
       "2        -1        -1          -1         -1   ...             1      -1   \n",
       "3        -1        -1          -1         -1   ...             1      -1   \n",
       "4        -1        -1          -1         -1   ...             2      -1   \n",
       "\n",
       "   TUSTARTTIM  TUSTOPTIME  TUTIER1CODE  TUTIER2CODE  TUTIER3CODE  TRCODE  \\\n",
       "0    04:00:00    05:30:00            1            1            1   10101   \n",
       "1    05:30:00    06:00:00            1            2            1   10201   \n",
       "2    06:00:00    06:15:00           18            5            1  180501   \n",
       "3    06:15:00    06:30:00            5            1            4   50104   \n",
       "4    06:30:00    09:00:00            5            1            1   50101   \n",
       "\n",
       "   TRTIER2  TXWHERE  \n",
       "0      101        0  \n",
       "1      102        0  \n",
       "2     1805        0  \n",
       "3      501        0  \n",
       "4      501        0  \n",
       "\n",
       "[5 rows x 30 columns]"
      ]
     },
     "execution_count": 39,
     "metadata": {},
     "output_type": "execute_result"
    }
   ],
   "source": [
    "df.head()"
   ]
  },
  {
   "cell_type": "code",
   "execution_count": 40,
   "metadata": {},
   "outputs": [],
   "source": [
    "activity_codes = {\n",
    "    \"01\":\" Personal Care\",\n",
    "    \"02\":\" Household Activities\",\n",
    "    \"03\":\" Caring For & Helping Household Members\",\n",
    "    \"04\":\"Caring For & Helping NonHH Members\",\n",
    "    \"05\": \"Work & Work-Related Activities\",\n",
    "    \"06\":\" Education\",\n",
    "    \"07\":\" Consumer Purchases\",\n",
    "    \"08\":\" Professional & Personal Care Services\",\n",
    "    \"09\":\" Household Services\",\n",
    "    \"10\":\" Government Services & Civic Obligations\",\n",
    "    \"11\":\" Eating and Drinking\",\n",
    "    \"12\": \"Socializing, Relaxing, and Leisure\",\n",
    "    \"13\": \"Sports, Exercise, and Recreation\",\n",
    "    \"14\":\" Religious and Spiritual Activities\",\n",
    "    \"15\":\" Volunteer Activities\",\n",
    "    \"16\":\" Telephone Calls\",\n",
    "    \"18\":\" Traveling \",\n",
    "}"
   ]
  },
  {
   "cell_type": "code",
   "execution_count": 41,
   "metadata": {},
   "outputs": [],
   "source": [
    "unique = df[\"TUCASEID\"].unique()[:100]"
   ]
  },
  {
   "cell_type": "code",
   "execution_count": 42,
   "metadata": {},
   "outputs": [
    {
     "data": {
      "text/plain": [
       "100"
      ]
     },
     "execution_count": 42,
     "metadata": {},
     "output_type": "execute_result"
    }
   ],
   "source": [
    "len(unique)"
   ]
  },
  {
   "cell_type": "code",
   "execution_count": 43,
   "metadata": {},
   "outputs": [],
   "source": [
    "df = df[df['TUCASEID'].isin(unique)]"
   ]
  },
  {
   "cell_type": "code",
   "execution_count": 44,
   "metadata": {},
   "outputs": [],
   "source": [
    "df = df.loc[:,['TUCASEID','TUSTARTTIM','TUSTOPTIME','TUTIER1CODE','TUACTIVITY_N']]"
   ]
  },
  {
   "cell_type": "code",
   "execution_count": 45,
   "metadata": {},
   "outputs": [],
   "source": [
    "df[\"start_minute\"] = pd.to_datetime(df['TUSTARTTIM'], format='%H:%M:%S').dt.hour *60 + pd.to_datetime(df['TUSTARTTIM'], format='%H:%M:%S').dt.minute"
   ]
  },
  {
   "cell_type": "code",
   "execution_count": 46,
   "metadata": {},
   "outputs": [],
   "source": [
    "df[\"stop_minute\"] = pd.to_datetime(df['TUSTOPTIME'], format='%H:%M:%S').dt.hour *60 + pd.to_datetime(df['TUSTOPTIME'], format='%H:%M:%S').dt.minute"
   ]
  },
  {
   "cell_type": "code",
   "execution_count": 48,
   "metadata": {},
   "outputs": [],
   "source": [
    "df = df.loc[:,['TUCASEID','start_minute','stop_minute','TUTIER1CODE','TUACTIVITY_N']]"
   ]
  },
  {
   "cell_type": "code",
   "execution_count": 50,
   "metadata": {},
   "outputs": [],
   "source": [
    "df.to_csv(\"data.csv\")"
   ]
  },
  {
   "cell_type": "code",
   "execution_count": null,
   "metadata": {},
   "outputs": [],
   "source": []
  },
  {
   "cell_type": "code",
   "execution_count": null,
   "metadata": {},
   "outputs": [],
   "source": []
  }
 ],
 "metadata": {
  "kernelspec": {
   "display_name": "Python [default]",
   "language": "python",
   "name": "python3"
  },
  "language_info": {
   "codemirror_mode": {
    "name": "ipython",
    "version": 3
   },
   "file_extension": ".py",
   "mimetype": "text/x-python",
   "name": "python",
   "nbconvert_exporter": "python",
   "pygments_lexer": "ipython3",
   "version": "3.6.5"
  }
 },
 "nbformat": 4,
 "nbformat_minor": 2
}
